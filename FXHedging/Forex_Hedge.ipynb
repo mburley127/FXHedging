{
 "cells": [
  {
   "cell_type": "code",
   "execution_count": 1,
   "metadata": {},
   "outputs": [],
   "source": [
    "### Library Imports\n",
    "import yfinance as yf\n",
    "import pandas as pd\n"
   ]
  },
  {
   "cell_type": "code",
   "execution_count": 7,
   "metadata": {},
   "outputs": [
    {
     "name": "stderr",
     "output_type": "stream",
     "text": [
      "[*********************100%%**********************]  4 of 4 completed\n"
     ]
    },
    {
     "data": {
      "text/html": [
       "<div>\n",
       "<style scoped>\n",
       "    .dataframe tbody tr th:only-of-type {\n",
       "        vertical-align: middle;\n",
       "    }\n",
       "\n",
       "    .dataframe tbody tr th {\n",
       "        vertical-align: top;\n",
       "    }\n",
       "\n",
       "    .dataframe thead th {\n",
       "        text-align: right;\n",
       "    }\n",
       "</style>\n",
       "<table border=\"1\" class=\"dataframe\">\n",
       "  <thead>\n",
       "    <tr style=\"text-align: right;\">\n",
       "      <th></th>\n",
       "      <th>Date</th>\n",
       "      <th>EURUSD=X</th>\n",
       "      <th>GBPUSD=X</th>\n",
       "      <th>JPYUSD=X</th>\n",
       "      <th>AUDUSD=X</th>\n",
       "    </tr>\n",
       "  </thead>\n",
       "  <tbody>\n",
       "    <tr>\n",
       "      <th>634</th>\n",
       "      <td>2024-06-07</td>\n",
       "      <td>0.666960</td>\n",
       "      <td>1.089443</td>\n",
       "      <td>1.279329</td>\n",
       "      <td>0.006423</td>\n",
       "    </tr>\n",
       "    <tr>\n",
       "      <th>635</th>\n",
       "      <td>2024-06-10</td>\n",
       "      <td>0.658271</td>\n",
       "      <td>1.077888</td>\n",
       "      <td>1.272945</td>\n",
       "      <td>0.006376</td>\n",
       "    </tr>\n",
       "    <tr>\n",
       "      <th>636</th>\n",
       "      <td>2024-06-11</td>\n",
       "      <td>0.660895</td>\n",
       "      <td>1.076426</td>\n",
       "      <td>1.272637</td>\n",
       "      <td>0.006368</td>\n",
       "    </tr>\n",
       "    <tr>\n",
       "      <th>637</th>\n",
       "      <td>2024-06-12</td>\n",
       "      <td>0.660770</td>\n",
       "      <td>1.074033</td>\n",
       "      <td>1.274048</td>\n",
       "      <td>0.006365</td>\n",
       "    </tr>\n",
       "    <tr>\n",
       "      <th>638</th>\n",
       "      <td>2024-06-13</td>\n",
       "      <td>0.663967</td>\n",
       "      <td>1.076774</td>\n",
       "      <td>1.275966</td>\n",
       "      <td>0.006370</td>\n",
       "    </tr>\n",
       "  </tbody>\n",
       "</table>\n",
       "</div>"
      ],
      "text/plain": [
       "          Date  EURUSD=X  GBPUSD=X  JPYUSD=X  AUDUSD=X\n",
       "634 2024-06-07  0.666960  1.089443  1.279329  0.006423\n",
       "635 2024-06-10  0.658271  1.077888  1.272945  0.006376\n",
       "636 2024-06-11  0.660895  1.076426  1.272637  0.006368\n",
       "637 2024-06-12  0.660770  1.074033  1.274048  0.006365\n",
       "638 2024-06-13  0.663967  1.076774  1.275966  0.006370"
      ]
     },
     "execution_count": 7,
     "metadata": {},
     "output_type": "execute_result"
    }
   ],
   "source": [
    "### Load in Stock Data\n",
    "def import_stock_data(tickers, start_date):\n",
    "    data = pd.DataFrame()\n",
    "    if len([tickers]) == 1:\n",
    "        data[tickers] = yf.download(tickers, start_date)['Adj Close']\n",
    "        data = pd.DataFrame(data)\n",
    "    else:\n",
    "        for t in tickers:\n",
    "            data[t] = yf.download(tickers, start_date)['Adj Close']\n",
    "    # Reset index to make headings in the same row\n",
    "    data.reset_index(inplace = True)\n",
    "\n",
    "    data['Date'] = pd.to_datetime(data['Date'])\n",
    "\n",
    "    return data\n",
    "\n",
    "forex_pairs = ['EURUSD=X', 'GBPUSD=X', 'JPYUSD=X', 'AUDUSD=X']\n",
    "start_date = '2022-01-01'\n",
    "stock_data = import_stock_data(forex_pairs, start_date)\n",
    "stock_data.tail()\n"
   ]
  },
  {
   "cell_type": "code",
   "execution_count": null,
   "metadata": {},
   "outputs": [],
   "source": []
  }
 ],
 "metadata": {
  "kernelspec": {
   "display_name": "base",
   "language": "python",
   "name": "python3"
  },
  "language_info": {
   "codemirror_mode": {
    "name": "ipython",
    "version": 3
   },
   "file_extension": ".py",
   "mimetype": "text/x-python",
   "name": "python",
   "nbconvert_exporter": "python",
   "pygments_lexer": "ipython3",
   "version": "3.8.18"
  }
 },
 "nbformat": 4,
 "nbformat_minor": 2
}
