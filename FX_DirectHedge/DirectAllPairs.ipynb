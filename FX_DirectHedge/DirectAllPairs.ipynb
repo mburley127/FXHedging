{
 "cells": [
  {
   "cell_type": "code",
   "execution_count": null,
   "metadata": {},
   "outputs": [],
   "source": [
    "### Import Functions\n",
    "from DirectFunctions import import_fx_data, direct_daily_rets, get_pairs, compute_hedge_ratio, calculate_hedged_unhedged\n",
    "import pandas as pd\n"
   ]
  },
  {
   "cell_type": "code",
   "execution_count": null,
   "metadata": {},
   "outputs": [],
   "source": [
    "### Call Function to Load in Rate Data\n",
    "all_forex_pairs = [\n",
    "    'EURUSD=X', 'GBPUSD=X', 'USDJPY=X', 'USDCHF=X', 'AUDUSD=X', 'NZDUSD=X',\n",
    "    'USDCAD=X', 'EURGBP=X', 'EURJPY=X', 'EURCHF=X', 'EURAUD=X', 'EURNZD=X',\n",
    "    'EURCAD=X', 'GBPAUD=X', 'GBPJPY=X', 'GBPCHF=X', 'AUDJPY=X', 'AUDCHF=X',\n",
    "    'AUDNZD=X', 'NZDJPY=X', 'NZDCHF=X', 'CADJPY=X', 'CADCHF=X', 'CHFJPY=X'\n",
    "]\n",
    "start_date = '2023-07-01'\n",
    "end_date = '2024-07-01'\n",
    "forex_data = import_fx_data(all_forex_pairs, start_date, end_date)\n",
    "forex_data.tail()\n"
   ]
  },
  {
   "cell_type": "code",
   "execution_count": null,
   "metadata": {},
   "outputs": [],
   "source": [
    "### Call Function to Calculate Daily Returns\n",
    "daily_returns = direct_daily_rets(forex_data)\n",
    "print(daily_returns.head())\n"
   ]
  },
  {
   "cell_type": "code",
   "execution_count": null,
   "metadata": {},
   "outputs": [],
   "source": [
    "### Function Call\n",
    "all_pairs = get_pairs(all_forex_pairs)\n",
    "print(f'Total pairs: {len(all_pairs)}')  # Should print 552"
   ]
  },
  {
   "cell_type": "code",
   "execution_count": null,
   "metadata": {},
   "outputs": [],
   "source": [
    "### Append Long Position, Short Position, Hedged returns, and Unhedged Returns Columns\n",
    "# Create an empty DataFrame to store hedge ratios\n",
    "hedge_ratios_df = pd.DataFrame(columns = ['Pair1', 'Pair2', 'Hedge Ratio', 'Long Position', 'Short Position', 'Hedged Returns', 'Unhedged Returns'])\n",
    "long_pos = 1000\n",
    "# Loop over pair combinations to compute hedge ratio and returns\n",
    "for pairing in all_pairs:\n",
    "    try:\n",
    "        hedge_ratio = compute_hedge_ratio(pairing, daily_returns)\n",
    "        short_pos, hedged_cumulative_rets, unhedged_cumulative_rets = calculate_hedged_unhedged(long_pos, pairing, daily_returns, hedge_ratio)\n",
    "        new_row = pd.DataFrame({\n",
    "            'Pair1': [pairing[0]], \n",
    "            'Pair2': [pairing[1]], \n",
    "            'Hedge Ratio': [hedge_ratio], \n",
    "            'Long Position': [long_pos], \n",
    "            'Short Position': [short_pos],\n",
    "            'Hedged Returns': [hedged_cumulative_rets.iloc[-1]], \n",
    "            'Unhedged Returns': [unhedged_cumulative_rets.iloc[-1]]\n",
    "        })\n",
    "        hedge_ratios_df = pd.concat([hedge_ratios_df, new_row], ignore_index=True)\n",
    "    except Exception as e:\n",
    "        print(f\"Error computing hedge ratio for {pairing}: {e}\")\n",
    "\n",
    "# Display the DataFrame\n",
    "print(hedge_ratios_df.tail())\n"
   ]
  },
  {
   "cell_type": "code",
   "execution_count": null,
   "metadata": {},
   "outputs": [],
   "source": [
    "### Filter for Most Profitable Hedged Pairing\n",
    "# Sort the DataFrame by the 'Hedged Returns' column in descending order\n",
    "most_profit_hedged = hedge_ratios_df.sort_values(by = 'Hedged Returns', ascending = False).head(1)\n",
    "#print(most_profit_hedged)\n",
    "\n",
    "### Display Results\n",
    "pair1 = most_profit_hedged.iloc[0]['Pair1']\n",
    "pair2 = most_profit_hedged.iloc[0]['Pair2']\n",
    "hedge_ratio = most_profit_hedged.iloc[0]['Hedge Ratio']\n",
    "long_position = most_profit_hedged.iloc[0]['Long Position']\n",
    "short_position = most_profit_hedged.iloc[0]['Short Position']\n",
    "hedged_returns = most_profit_hedged.iloc[0]['Hedged Returns']\n",
    "unhedged_returns = most_profit_hedged.iloc[0]['Unhedged Returns']\n",
    "\n",
    "print(f\"Most Profitable Pairings: {pair1} and {pair2}\")\n",
    "print(f\"Hedge Ratio: {hedge_ratio:.6f}\")\n",
    "print(f\"Long Position: {long_position}\")\n",
    "print(f\"Short Position: {short_position:.6f}\")\n",
    "print(\"\\nReturns:\")\n",
    "print(f\"Hedged Returns: {hedged_returns:.6f}\")\n",
    "print(f\"Unhedged Returns: {unhedged_returns:.6f}\")\n"
   ]
  }
 ],
 "metadata": {
  "kernelspec": {
   "display_name": "base",
   "language": "python",
   "name": "python3"
  },
  "language_info": {
   "codemirror_mode": {
    "name": "ipython",
    "version": 3
   },
   "file_extension": ".py",
   "mimetype": "text/x-python",
   "name": "python",
   "nbconvert_exporter": "python",
   "pygments_lexer": "ipython3",
   "version": "3.8.18"
  }
 },
 "nbformat": 4,
 "nbformat_minor": 2
}
